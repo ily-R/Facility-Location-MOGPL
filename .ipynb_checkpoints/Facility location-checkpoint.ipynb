{
 "cells": [
  {
   "cell_type": "markdown",
   "metadata": {},
   "source": [
    "# Facility-Location:"
   ]
  },
  {
   "cell_type": "markdown",
   "metadata": {},
   "source": [
    "**Indroduction and Objectives:**\n",
    "\n",
    "The facility localization problem models a real problem of locating services (hospital, administration, fire station, library, swimming pool) on a geographic area in a way to fairly share access to these resources by the people in that area.Depending on the case, the notion of \"fairly\" can be distance, time or more generally the cost of access of potential users (customers) to the resource that has been assigned to them. In this repo I will work on a simplifed problem where we optimize the localization of one resource (library) in k locations. The same approach can be used to a more generalized situation. \n",
    "let $I = ${$1,...,n$} be the set of $n$ cities in a geographic area, and $v_{i}$ be the population of city $i$ for every $i\\epsilon I$.\n",
    "We will choose a set $J$ of cities that contain the resources such that $J\\subseteq I$ and $k<n$,  ($\\left |J  \\right | = k$). Let $x_{ij}$ be $1$ if the city $i$ is connected to the resource in city $j$ and $0$ otherwise. Let $d_{ij}$ denotes the distance between the city $i$ and the city $j$. So basically $X$ and $D$ are matrices of size $n\\times n$ that contain the values $x_{ij}$ and $d_{ij}$ respectively for all $i\\epsilon I$ and $j\\epsilon J$. (On the figure the black line represents the longest distance)\n",
    "\n",
    "Map              |  Affectations using approach 1\n",
    ":-------------------------:|:-------------------------:\n",
    "![](92_map.png)            |  ![](approach1_3_7_13_.png)\n",
    "\n",
    "**Mathematical Modeling:**\n",
    "\n",
    "**1)**  At first we suppose that we pick the set $J$ manually and the model selects which city connects to which under a defined *objective function* and a number *constraints*. We will set as a metric for our problem the average distance from a city $i$ to a resource in city $j$. Also, we note that now $X$ and $D$ are matrices of size $n\\times k$.\n",
    "\n",
    "**objective function:** given the sets $J$ and $I$ we will minimize the sum of all distances from a city $i$ to a resource in city $j$\n",
    "$$f(x) =\\sum_{i=1}^{n}\\sum_{j=1}^{k}d_{ij}x_{ij}$$\n",
    "**Constraints:** Every city $i$ connects to one and only one resource in city $j$\n",
    "$$\\sum_{j=1}^{k}x_{ij} = 1 ,\\forall i \\epsilon I$$\n",
    "The total population assigned to one resource must not exceed the quantity $\\gamma = \\frac{1+ \\alpha}{k}\\sum_{i=1}^{n}v_i$ where $\\alpha$ is a constant (for example $\\alpha = 0.1$)\n",
    "$$\\sum_{i=1}^{n}x_{ij}\\times v_i \\leqslant  \\gamma ,\\forall j \\epsilon J$$\n",
    "And The last constraint that we need to take into account is $x_{ij}$  $ \\epsilon \\left \\{ 0, 1 \\right \\} $\n",
    "\n",
    "**Resume**: $$\\begin{Bmatrix}\n",
    "min \\left [f(x)  \\right ]\\\\ \n",
    "\\\\ \n",
    "\\sum_{j=1}^{k}x_{ij} = 1 ,\\forall i \\epsilon I\\\\ \n",
    "\\\\ \n",
    "\\sum_{i=1}^{n}x_{ij}\\times v_i \\leq  \\gamma ,\\forall j \\epsilon J\\\\ \n",
    "\\\\ \n",
    "x_{ij} \\epsilon \\left \\{ 0, 1 \\right \\} \\\\ \n",
    "\\end{Bmatrix}$$\n",
    "\n"
   ]
  },
  {
   "cell_type": "markdown",
   "metadata": {},
   "source": [
    "**1.** lets import the packages"
   ]
  },
  {
   "cell_type": "code",
   "execution_count": null,
   "metadata": {
    "collapsed": true
   },
   "outputs": [],
   "source": [
    "# created by ilyas Aroui on 06/12/2018\n",
    "\n",
    "import numpy as np\n",
    "from gurobipy import *\n",
    "import matplotlib.pyplot as plt"
   ]
  },
  {
   "cell_type": "markdown",
   "metadata": {},
   "source": [
    "**2.** Let's define some helpful functions:\n",
    "\n",
    "import the data in the scope."
   ]
  },
  {
   "cell_type": "code",
   "execution_count": null,
   "metadata": {
    "collapsed": true
   },
   "outputs": [],
   "source": [
    "def isfloat(value):\n",
    "    \"\"\" vérifier si l'entrée est un float\n",
    "    :return:\n",
    "    True: Si la value est de type float\n",
    "    False: Sinon\n",
    "    \"\"\"\n",
    "    try:\n",
    "        float(value)\n",
    "        return True\n",
    "    except ValueError:\n",
    "        return False\n",
    "\n",
    "\n",
    "def read_data():\n",
    "    with open('data/distances92.txt', 'r') as distance_file:\n",
    "        distances92 = np.array([float(x) for l in distance_file for x in l.split() if isfloat(x)])\n",
    "        distances92 = np.reshape(distances92, (36, 36))\n",
    "    distance_file.close()\n",
    "\n",
    "    with open('data/villes92.txt', 'r') as cities_file:\n",
    "        cities92 = np.array([c for l in cities_file for c in l.split('\\n') if c])\n",
    "    cities_file.close()\n",
    "\n",
    "    with open('data/populations92.txt', 'r') as population_file:\n",
    "        population92 = np.array([int(x) for l in population_file for x in l.split(',') if isfloat(x)])\n",
    "    population_file.close()\n",
    "\n",
    "    with open('data/coordvilles92.txt', 'r') as coor_file:\n",
    "        coordinates92 = np.array([int(x) for l in coor_file for x in l.split(',') if isfloat(x)])\n",
    "        coordinates92 = np.reshape(coordinates92, (36, 2))\n",
    "    coor_file.close()\n",
    "\n",
    "    return distances92, cities92, population92, coordinates92"
   ]
  },
  {
   "cell_type": "markdown",
   "metadata": {},
   "source": [
    "Draw the affectations on the map."
   ]
  },
  {
   "cell_type": "code",
   "execution_count": null,
   "metadata": {
    "collapsed": true
   },
   "outputs": [],
   "source": [
    "def draw_affectations(affectation, image, avg_val, max_row, max_column, apprch):\n",
    "    img = plt.imread(image)\n",
    "    fig, ax = plt.subplots()\n",
    "    ax.imshow(img)\n",
    "    for j in range(len(resource_index)):\n",
    "        l1 = np.where(affectation[:, j] == 1)[0]\n",
    "        for i in range(len(l1)):\n",
    "            color = 'C' + str(j) #  une couleur pour chaque resource\n",
    "            if j == max_column and l1[i] == max_row:  #  la couleur noir pour la distance maximale\n",
    "                color = 'black'\n",
    "            plt.plot([coordinates[l1[i], 0], coordinates[resource_index[j], 0]],\n",
    "                     [coordinates[l1[i], 1], coordinates[resource_index[j], 1]],\n",
    "                     color=color, linewidth=1)\n",
    "    plt.title('k = '+str(len(resource_index))+'\\nAverage Distance: ' + str(avg_val/36)[:6] +\n",
    "              '\\nLongest Distance: '+str(D[max_row, max_column]))\n",
    "    title = apprch +'_'\n",
    "    for i in range(len(resource_index)):\n",
    "        title += str(resource_index[i]) + '_'\n",
    "    plt.savefig(title)\n",
    "    plt.show()"
   ]
  },
  {
   "cell_type": "markdown",
   "metadata": {},
   "source": [
    "**3.** Call the function read_data()"
   ]
  },
  {
   "cell_type": "code",
   "execution_count": null,
   "metadata": {
    "collapsed": true
   },
   "outputs": [],
   "source": [
    "#  data manipulation\n",
    "distances, cities, population, coordinates = read_data()\n",
    "assert distances.shape == (36, 36)\n",
    "assert cities.shape == (36, )\n",
    "assert population.shape == (36,)\n",
    "assert coordinates.shape == (36, 2)"
   ]
  },
  {
   "cell_type": "markdown",
   "metadata": {},
   "source": [
    "**4.** Initialze constants"
   ]
  },
  {
   "cell_type": "code",
   "execution_count": null,
   "metadata": {
    "collapsed": true
   },
   "outputs": [],
   "source": [
    "num_cities = cities.shape[0]\n",
    "resource_index = [3, 7, 13] # change this to get different results\n",
    "k = len(resource_index)\n",
    "alpha = 0.1\n",
    "population_max = population.sum()*(1 + alpha)/k\n",
    "D = distances[:, resource_index]"
   ]
  },
  {
   "cell_type": "markdown",
   "metadata": {},
   "source": [
    "**5.** Lets build the model."
   ]
  },
  {
   "cell_type": "code",
   "execution_count": null,
   "metadata": {
    "collapsed": true
   },
   "outputs": [],
   "source": [
    "# model\n",
    "m = Model('Approach One')\n",
    "m.setParam('OutputFlag', False) # To prevent Gurobi from printing the computation resume"
   ]
  },
  {
   "cell_type": "markdown",
   "metadata": {},
   "source": [
    "**6.** Decision variables"
   ]
  },
  {
   "cell_type": "code",
   "execution_count": null,
   "metadata": {
    "collapsed": true
   },
   "outputs": [],
   "source": [
    "# decision variables\n",
    "x1 = {}\n",
    "for i in range(num_cities):\n",
    "    for j in range(k):\n",
    "        x1[(i, j)] = m.addVar(vtype=GRB.BINARY)\n",
    "\n",
    "m.update()"
   ]
  },
  {
   "cell_type": "markdown",
   "metadata": {},
   "source": [
    "**7.** Set the contraints."
   ]
  },
  {
   "cell_type": "code",
   "execution_count": null,
   "metadata": {
    "collapsed": true
   },
   "outputs": [],
   "source": [
    "# constraints\n",
    "\n",
    "for i in range(num_cities):\n",
    "    m.addConstr(quicksum(x1[(i, j)] for j in range(k)) == 1)\n",
    "\n",
    "for j in range(k):\n",
    "    m.addConstr(quicksum(x1[(i, j)]*population[i] for i in range(num_cities)) <= population_max)"
   ]
  },
  {
   "cell_type": "markdown",
   "metadata": {},
   "source": [
    "**8.** Set the objective function."
   ]
  },
  {
   "cell_type": "code",
   "execution_count": null,
   "metadata": {
    "collapsed": true
   },
   "outputs": [],
   "source": [
    "# objective\n",
    "m.setObjective(quicksum(quicksum(D[i, j]*x1[(i, j)] for i in range(num_cities)) for j in range(k)), GRB.MINIMIZE)"
   ]
  },
  {
   "cell_type": "markdown",
   "metadata": {},
   "source": [
    "**9.** Optimize"
   ]
  },
  {
   "cell_type": "code",
   "execution_count": null,
   "metadata": {
    "collapsed": true
   },
   "outputs": [],
   "source": [
    "# optimization\n",
    "m.optimize()"
   ]
  },
  {
   "cell_type": "markdown",
   "metadata": {},
   "source": [
    "**10.** Lets restore the matrix X from the Gurobi variables dictionary."
   ]
  },
  {
   "cell_type": "code",
   "execution_count": null,
   "metadata": {
    "collapsed": true
   },
   "outputs": [],
   "source": [
    "#  récupération de la matrice Xij\n",
    "result1 = np.zeros((num_cities, k))\n",
    "for i in range(num_cities):\n",
    "    for j in range(k):\n",
    "        result1[i, j] = x1[(i, j)].X"
   ]
  },
  {
   "cell_type": "markdown",
   "metadata": {},
   "source": [
    "**11.** Making sure that the constraints hold."
   ]
  },
  {
   "cell_type": "code",
   "execution_count": null,
   "metadata": {
    "collapsed": true
   },
   "outputs": [],
   "source": [
    "# assertion constraints\n",
    "assert((result1.sum(1) == 1).all() == True)\n",
    "assert((sum(np.multiply(result1,  population.reshape((36, 1)))) <= population_max).all() == True)"
   ]
  },
  {
   "cell_type": "markdown",
   "metadata": {},
   "source": [
    "The indices of the maximum distance."
   ]
  },
  {
   "cell_type": "code",
   "execution_count": null,
   "metadata": {
    "collapsed": true
   },
   "outputs": [],
   "source": [
    "row_max1,column_max1 = np.unravel_index(np.multiply(result1, D).argmax(), np.multiply(result1, D).shape)"
   ]
  },
  {
   "cell_type": "markdown",
   "metadata": {},
   "source": [
    "Debug the coherence of the results before drawing on the map."
   ]
  },
  {
   "cell_type": "code",
   "execution_count": null,
   "metadata": {
    "collapsed": true
   },
   "outputs": [],
   "source": [
    "print('Average distance:',np.sum(np.multiply(result1, D))/36)\n",
    "print('Maximal distance:',np.max(np.multiply(result1, D)))"
   ]
  },
  {
   "cell_type": "markdown",
   "metadata": {},
   "source": [
    "**12.** Lets visualise the results."
   ]
  },
  {
   "cell_type": "code",
   "execution_count": null,
   "metadata": {
    "collapsed": true
   },
   "outputs": [],
   "source": [
    "draw_affectations(result1, 'data/92.png', np.sum(np.multiply(result1, D)), row_max1, column_max1, 'approach1')"
   ]
  },
  {
   "cell_type": "markdown",
   "metadata": {},
   "source": [
    "**2)** We pick the set $J$ manually and the model selects which city connects to which under a defined *objective function* and a number *constraints*. But now we will set as a metric for our problem the maximal distance and the average distance from a city $i$ to a resource in city $j$."
   ]
  },
  {
   "cell_type": "markdown",
   "metadata": {},
   "source": [
    "**objective function:** given the sets $J$ and $I$ we will minimize the maximum the distance and a fraction from the sum off all distances from a city $i$ to a resource in city $j$\n",
    "$$g(x) = max \\sum_{j=1}^{k}d_{ij}x_{ij} + \\epsilon f(x)$$\n",
    "$$g(x) = z + \\epsilon f(x)$$\n",
    "And the constraints are the same as the first approach."
   ]
  },
  {
   "cell_type": "markdown",
   "metadata": {},
   "source": [
    "**Resume**: $$\\begin{Bmatrix}\n",
    "min \\left [g(x)  \\right ]\\\\ \n",
    "\\\\ \n",
    "\\sum_{j=1}^{k}x_{ij} = 1 ,\\forall i \\epsilon I\\\\ \n",
    "\\\\ \n",
    "\\sum_{i=1}^{n}x_{ij}\\times v_i \\leq  \\gamma ,\\forall j \\epsilon J\\\\ \n",
    "\\\\ \n",
    "z > x_{ij}\\times d_{ij}, \\forall i \\epsilon I , \\forall j \\epsilon J \\\\ \n",
    "\\\\ \n",
    "z > 0 \\\\ \n",
    "\\\\ \n",
    "x_{ij} \\epsilon \\left \\{ 0, 1 \\right \\} \\\\ \n",
    "\\end{Bmatrix}$$"
   ]
  },
  {
   "cell_type": "markdown",
   "metadata": {},
   "source": [
    "**1.** lets add the constant $\\epsilon$ to the scope"
   ]
  },
  {
   "cell_type": "code",
   "execution_count": null,
   "metadata": {
    "collapsed": true
   },
   "outputs": [],
   "source": [
    "epsilon = 1.e-6"
   ]
  },
  {
   "cell_type": "markdown",
   "metadata": {},
   "source": [
    "**2.** build the model."
   ]
  },
  {
   "cell_type": "code",
   "execution_count": null,
   "metadata": {
    "collapsed": true
   },
   "outputs": [],
   "source": [
    "# model\n",
    "m2 = Model('Approach two')\n",
    "m2.setParam('OutputFlag', False) # To prevent Gurobi from printing the computation resume"
   ]
  },
  {
   "cell_type": "markdown",
   "metadata": {},
   "source": [
    "**3.** Decision variables"
   ]
  },
  {
   "cell_type": "code",
   "execution_count": null,
   "metadata": {
    "collapsed": true
   },
   "outputs": [],
   "source": [
    "x2 = {}\n",
    "for i in range(num_cities):\n",
    "    for j in range(k):\n",
    "        x2[(i, j)] = m2.addVar(vtype=GRB.BINARY)\n",
    "z = m2.addVar(vtype=GRB.CONTINUOUS, lb=0, obj=1.0)\n",
    "m2.update()\n"
   ]
  },
  {
   "cell_type": "markdown",
   "metadata": {},
   "source": [
    "**4.** Constraints"
   ]
  },
  {
   "cell_type": "code",
   "execution_count": null,
   "metadata": {
    "collapsed": true
   },
   "outputs": [],
   "source": [
    "# constraints\n",
    "\n",
    "for i in range(num_cities):\n",
    "    m2.addConstr(quicksum(x2[(i, j)] for j in range(k)) == 1)\n",
    "\n",
    "for j in range(k):\n",
    "    m2.addConstr(quicksum(x2[(i, j)]*population[i] for i in range(num_cities)) <= population_max)\n",
    "\n",
    "for i in range(num_cities):\n",
    "    for j in range(k):\n",
    "        m2.addConstr(z >= x2[(i, j)]*D[i, j])"
   ]
  },
  {
   "cell_type": "markdown",
   "metadata": {},
   "source": [
    "**5.** Objective function"
   ]
  },
  {
   "cell_type": "code",
   "execution_count": null,
   "metadata": {
    "collapsed": true
   },
   "outputs": [],
   "source": [
    "m2.setObjective(z + epsilon*quicksum(quicksum(D[i, j]*x2[(i, j)] for\n",
    "                                             i in range(num_cities)) for j in range(k)), GRB.MINIMIZE)"
   ]
  },
  {
   "cell_type": "markdown",
   "metadata": {},
   "source": [
    "**6.** Optimization"
   ]
  },
  {
   "cell_type": "code",
   "execution_count": null,
   "metadata": {
    "collapsed": true
   },
   "outputs": [],
   "source": [
    "# optimization\n",
    "m2.optimize()"
   ]
  },
  {
   "cell_type": "markdown",
   "metadata": {},
   "source": [
    "**7.** Restoring the matrix X from the gurobi dictionay of variables."
   ]
  },
  {
   "cell_type": "code",
   "execution_count": null,
   "metadata": {
    "collapsed": true
   },
   "outputs": [],
   "source": [
    "#  récupération de la matrice Xij\n",
    "result2 = np.zeros((num_cities, k))\n",
    "for i in range(num_cities):\n",
    "    for j in range(k):\n",
    "        result2[i, j] = x2[(i, j)].X"
   ]
  },
  {
   "cell_type": "markdown",
   "metadata": {},
   "source": [
    "**8.** Making sure the constraints hold"
   ]
  },
  {
   "cell_type": "code",
   "execution_count": null,
   "metadata": {
    "collapsed": true
   },
   "outputs": [],
   "source": [
    "# assertion constraints\n",
    "assert((result2.sum(1) == 1).all() == True)\n",
    "assert((sum(np.multiply(result2,  population.reshape((36, 1)))) <= population_max).all() == True)"
   ]
  },
  {
   "cell_type": "markdown",
   "metadata": {},
   "source": [
    "The indices of the maximum distance."
   ]
  },
  {
   "cell_type": "code",
   "execution_count": null,
   "metadata": {
    "collapsed": true
   },
   "outputs": [],
   "source": [
    "row_max2,column_max2 = np.unravel_index(np.multiply(result2, D).argmax(), np.multiply(result2, D).shape)"
   ]
  },
  {
   "cell_type": "markdown",
   "metadata": {},
   "source": [
    "Debug the coherence of the result."
   ]
  },
  {
   "cell_type": "code",
   "execution_count": null,
   "metadata": {
    "collapsed": true
   },
   "outputs": [],
   "source": [
    "print('Average distance:',np.sum(np.multiply(result2, D))/36)\n",
    "print('Maximal distance:',np.max(np.multiply(result2, D)))"
   ]
  },
  {
   "cell_type": "markdown",
   "metadata": {},
   "source": [
    "**9.** Draw affectation"
   ]
  },
  {
   "cell_type": "code",
   "execution_count": null,
   "metadata": {
    "collapsed": true
   },
   "outputs": [],
   "source": [
    "draw_affectations(result2, '92.png', np.sum(np.multiply(result2, D)), row_max2, column_max2, 'approach2')"
   ]
  },
  {
   "cell_type": "markdown",
   "metadata": {},
   "source": [
    "If you run both approaches using the instance of the [3, 7, 13] you will get the following two figures:\n",
    "\n",
    "Approach1 | Approach2\n",
    "- | - \n",
    "![](approach1_3_7_13_.png) | ![](approach2_3_7_13_.png)\n"
   ]
  },
  {
   "cell_type": "markdown",
   "metadata": {},
   "source": [
    "We see clearly that on approach1 we favorize the average distance over the longest distance. However, on approch2 we try to minimize the maximum distance even if the average distance gets longer. In order to compare the two approaches we define a metric as follows:\n",
    "$$PE = 1 - \\frac{f(x_{f}^{*})}{f(x_{g}^{*})}$$ where $x_{f}^{*}$ and $x_{g}^{*}$ are the solutions that minimize $f$ and $g$ respectively.\n",
    "\n",
    "For the instance  [3, 7, 13] $$PE = 1 - \\frac{7.3069 \\times 36}{7.8441 \\times 36} = 0.0684$$"
   ]
  },
  {
   "cell_type": "markdown",
   "metadata": {
    "collapsed": true
   },
   "source": [
    "So the Closer we are to 0 the better. Because we know that we did not penalize that much on the average distance to minimize the longest distance. "
   ]
  },
  {
   "cell_type": "markdown",
   "metadata": {
    "collapsed": true
   },
   "source": [
    "**3)** Now we make a model that given a number $k$ of resources it selects the set $J$. And it decides which city connects to which under the same *objective function and Constraints* in approach 2. Since we do not select the set $J$ it means that the model will explore all the possible ways. So, $X$ and $D$ are matrices of size $n\\times n$ instead of $n\\times k$ as in approach1 and approach2. All we need to add is another constraint that insures that we select exactly $k$ resources.\n",
    "To do that, we add $n$ variables   $c_i$  $\\forall i$ $\\epsilon$  $I$ such that $c_i = max$ $x_{ij}$ $\\forall j$ $\\epsilon J $,  and $\\forall i$ $\\epsilon I $. Basically $c_i=1$ if the city $i$ represents a resource location, and 0 otherwise. So finally, all we need to do is to ensure that $\\sum_{i=1}^{n}c_i = k $.\n",
    "\n",
    "**Resume**: $$\\begin{Bmatrix}\n",
    "min \\left [g(x)  \\right ]\\\\ \n",
    "\\\\ \n",
    "\\sum_{j=1}^{k}x_{ij} = 1 ,\\forall i \\epsilon I\\\\ \n",
    "\\\\ \n",
    "\\sum_{i=1}^{n}x_{ij}\\times v_i \\leq  \\gamma ,\\forall j \\epsilon J\\\\ \n",
    "\\\\ \n",
    "z > x_{ij}\\times d_{ij}, \\forall i \\epsilon I , \\forall j \\epsilon J \\\\ \n",
    "\\\\ \n",
    "c_i > x_{ij}, \\forall i \\epsilon I , \\forall j \\epsilon J \\\\ \n",
    "\\\\ \n",
    "\\sum_{i=1}^{n}c_i = k\\\\ \n",
    "\\\\\n",
    "c_i \\epsilon \\left \\{ 0, 1 \\right \\}\\\\ \n",
    "\\\\ \n",
    "z > 0 \\\\ \n",
    "\\\\ \n",
    "x_{ij} \\epsilon \\left \\{ 0, 1 \\right \\} \\\\ \n",
    "\\end{Bmatrix}$$\n",
    "\n"
   ]
  },
  {
   "cell_type": "markdown",
   "metadata": {},
   "source": [
    "**1.** We keep the distance matrix as it is with $n\\times n$ dimension and we indicate the number of resources we want."
   ]
  },
  {
   "cell_type": "code",
   "execution_count": null,
   "metadata": {
    "collapsed": true
   },
   "outputs": [],
   "source": [
    "D = distances\n",
    "k = 3"
   ]
  },
  {
   "cell_type": "markdown",
   "metadata": {},
   "source": [
    "**2.** build the model."
   ]
  },
  {
   "cell_type": "code",
   "execution_count": null,
   "metadata": {
    "collapsed": true
   },
   "outputs": [],
   "source": [
    "# model\n",
    "m3 = Model('optimal approach')\n",
    "m3.setParam('OutputFlag', False)"
   ]
  },
  {
   "cell_type": "markdown",
   "metadata": {},
   "source": [
    "**3.** Decision variables"
   ]
  },
  {
   "cell_type": "code",
   "execution_count": null,
   "metadata": {
    "collapsed": true
   },
   "outputs": [],
   "source": [
    "# decision variables\n",
    "x3 = {}\n",
    "c = {}\n",
    "for i in range(num_cities):\n",
    "    for j in range(num_cities):\n",
    "        x3[(i, j)] = m3.addVar(vtype=GRB.BINARY)\n",
    "z = m3.addVar(vtype=GRB.CONTINUOUS, lb=0, obj=1.0)\n",
    "for i in range(num_cities):\n",
    "    c[i] = m3.addVar(vtype=GRB.BINARY, lb=0)\n",
    "m3.update()"
   ]
  },
  {
   "cell_type": "markdown",
   "metadata": {},
   "source": [
    "**4.** Constraints"
   ]
  },
  {
   "cell_type": "code",
   "execution_count": null,
   "metadata": {
    "collapsed": true
   },
   "outputs": [],
   "source": [
    "# constraints\n",
    "\n",
    "for i in range(num_cities):\n",
    "    m3.addConstr(quicksum(x3[(i, j)] for j in range(num_cities)) == 1)\n",
    "\n",
    "for j in range(num_cities):\n",
    "    m3.addConstr(quicksum(x3[(i, j)]*population[i] for i in range(num_cities)) <= population_max)\n",
    "\n",
    "for i in range(num_cities):\n",
    "    for j in range(num_cities):\n",
    "        m3.addConstr(z >= x3[(i, j)]*D[i, j])\n",
    "\n",
    "for i in range(num_cities):\n",
    "    for j in range(num_cities):\n",
    "        m3.addConstr(c[j] >= x3[(i, j)])\n",
    "\n",
    "m3.addConstr(quicksum(c[i] for i in range(num_cities)) == k)"
   ]
  },
  {
   "cell_type": "markdown",
   "metadata": {},
   "source": [
    "**5.** Objective Function"
   ]
  },
  {
   "cell_type": "code",
   "execution_count": null,
   "metadata": {
    "collapsed": true
   },
   "outputs": [],
   "source": [
    "m3.setObjective(z + epsilon*quicksum(quicksum(D[i, j]*x3[(i, j)] for\n",
    "                                             i in range(num_cities)) for j in range(num_cities)), GRB.MINIMIZE)"
   ]
  },
  {
   "cell_type": "markdown",
   "metadata": {},
   "source": [
    "**6.** Optimize the model."
   ]
  },
  {
   "cell_type": "code",
   "execution_count": null,
   "metadata": {
    "collapsed": true
   },
   "outputs": [],
   "source": [
    "# optimization\n",
    "m3.optimize()"
   ]
  },
  {
   "cell_type": "markdown",
   "metadata": {},
   "source": [
    "**7.** Restore the matrix **X** from the Gurobi variable."
   ]
  },
  {
   "cell_type": "code",
   "execution_count": null,
   "metadata": {
    "collapsed": true
   },
   "outputs": [],
   "source": [
    "#  récupération de la matrice Xij\n",
    "result3 = np.zeros((num_cities, num_cities))\n",
    "for i in range(num_cities):\n",
    "    for j in range(num_cities):\n",
    "        result3[i, j] = x3[(i, j)].X"
   ]
  },
  {
   "cell_type": "markdown",
   "metadata": {},
   "source": [
    "**8.** Assert constraints."
   ]
  },
  {
   "cell_type": "code",
   "execution_count": null,
   "metadata": {
    "collapsed": true
   },
   "outputs": [],
   "source": [
    "# assertion constraints\n",
    "assert((result3.sum(1) == 1).all() == True)\n",
    "assert((sum(np.multiply(result3,  population.reshape((36, 1)))) <= population_max).all() == True)"
   ]
  },
  {
   "cell_type": "markdown",
   "metadata": {},
   "source": [
    "Restoring the cities selected by the model to be resources, and the longest distance."
   ]
  },
  {
   "cell_type": "code",
   "execution_count": null,
   "metadata": {
    "collapsed": true
   },
   "outputs": [],
   "source": [
    "#  récupération des villes choisi comme resources\n",
    "resource_index = []\n",
    "for i in range(num_cities):\n",
    "    if c[i].X > 0:\n",
    "        resource_index.append(i)\n",
    "\n",
    "assert (len(resource_index) == k)\n",
    "D = distances[:, resource_index]\n",
    "result3 = result3[:, resource_index]\n",
    "row_max3,column_max3 = np.unravel_index(np.multiply(result3, D).argmax(), np.multiply(result3, D).shape)"
   ]
  },
  {
   "cell_type": "markdown",
   "metadata": {},
   "source": [
    "Cheking the coherence of the results obtained."
   ]
  },
  {
   "cell_type": "code",
   "execution_count": null,
   "metadata": {
    "collapsed": true
   },
   "outputs": [],
   "source": [
    "print('The average distance: ',np.sum(np.multiply(result3, D))/36)\n",
    "print('The longest distance: ',np.max(np.multiply(result3, D)))"
   ]
  },
  {
   "cell_type": "markdown",
   "metadata": {},
   "source": [
    "**9.** Draw affectations."
   ]
  },
  {
   "cell_type": "code",
   "execution_count": null,
   "metadata": {
    "collapsed": true
   },
   "outputs": [],
   "source": [
    "draw_affectations(result3, '92.png', np.sum(np.multiply(result3, D)), row_max3, column_max3, 'optimal approach')"
   ]
  },
  {
   "cell_type": "markdown",
   "metadata": {},
   "source": [
    "If you run both the optimal approach with $k=3$ you will get the following result:\n",
    "\n",
    "![](optimal approach_1_2_28_.png) "
   ]
  },
  {
   "cell_type": "markdown",
   "metadata": {},
   "source": [
    "We see clearly how clean this is! the longest distance is $6.81$ compared to what we obtained in approach2 $18.34$ !! and the Average distance is $3.7491$ compared to  what we obtained in approach2 $7.8441$ !!"
   ]
  },
  {
   "cell_type": "code",
   "execution_count": null,
   "metadata": {
    "collapsed": true
   },
   "outputs": [],
   "source": []
  }
 ],
 "metadata": {
  "kernelspec": {
   "display_name": "Python 3",
   "language": "python",
   "name": "python3"
  },
  "language_info": {
   "codemirror_mode": {
    "name": "ipython",
    "version": 3
   },
   "file_extension": ".py",
   "mimetype": "text/x-python",
   "name": "python",
   "nbconvert_exporter": "python",
   "pygments_lexer": "ipython3",
   "version": "3.7.3"
  }
 },
 "nbformat": 4,
 "nbformat_minor": 2
}
